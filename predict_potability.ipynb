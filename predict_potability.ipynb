{
  "cells": [
    {
      "attachments": {},
      "cell_type": "markdown",
      "metadata": {
        "id": "LpdXhY30R-5P"
      },
      "source": [
        "# Business Understanding\n",
        "Akses untuk air minum yang aman sangat penting untuk kesehatan, hak asasi manusia dan komponen kebijakan yang efektif untuk perlindungan kesehatan. Hal ini penting sebagai masalah kesehatan dan pembangunan di tingkat nasional, regional dan lokal. Di beberapa daerah, telah terbukti bahwa investasi dalam penyediaan air dan sanitasi dapat menghasilkan keuntungan ekonomi bersih, karena pengurangan efek kesehatan yang merugikan dan biaya perawatan kesehatan lebih besar daripada biaya untuk melakukan intervensi.\n",
        "\n",
        "1.\tDetermine business objectives\n",
        "Air minum yang aman sangat penting bagi kesehatan, tetapi masih banyak yang tidak mendapatkan air yang layak untuk diminum karena tidak mengetahui apakah air minum layak dikonsumsi atau tidak. berangkat dari masalah itu untuk memudahkan mengetahui antara air bisa diminum atau tidak maka dibuatlah model machine learning yang bisa membedakan antara air layak untuk diminum atau tidak\n",
        "2.\tDetermine the Purpose of Data Mining\n",
        "  - Model dapat memprediksi apakah air minum layak untuk diminum atau tidak\n",
        "  - Model mempunyai akurasi yang lebih dari 0.85\n",
        "3. Produce prject plan\n",
        "  Solusi pada kasus kali ini adalah dengan menggunakan beberapa model machine learning untuk memprediksi apakah air minum dapat di minum atau tidak. Penggunaan beberapa model berfungsi untuk bisa membandingkan model mana yang lebih baik dalam menyelesaikan masalah klasifikasi air minum. model yang akan digunakan yaitu:\n",
        "    - Logistic Regression\n",
        "    - K-Nearest Neighbor(KNN)\n",
        "    - Decision Tree\n",
        "    -\tBoosting Algorithm(BaggingClassifier)\n",
        "    -\tRandomForestClassifier\n",
        "    -\tXGBoost"
      ]
    },
    {
      "cell_type": "markdown",
      "metadata": {
        "id": "NIK3uZGDGFtF"
      },
      "source": [
        "# Import liblary yang dibutuhkan"
      ]
    },
    {
      "cell_type": "code",
      "execution_count": 1,
      "metadata": {
        "id": "oO5qpYZ2yvyG"
      },
      "outputs": [],
      "source": [
        "# Basic Libraries\n",
        "import pandas as pd\n",
        "import numpy as np\n",
        "import warnings\n",
        "warnings.filterwarnings(\"ignore\")\n",
        "\n",
        "# Get Dataset Liblary\n",
        "import os\n",
        "from os.path import join\n",
        "\n",
        "# Visualizations Libraries\n",
        "import matplotlib.pyplot as plt\n",
        "import seaborn as sns\n",
        "\n",
        "# Preprocessing liblary\n",
        "from sklearn.preprocessing import StandardScaler\n",
        "from sklearn.utils import resample\n",
        "from sklearn.utils import shuffle\n",
        "from sklearn.model_selection import train_test_split\n",
        "from sklearn.model_selection import RandomizedSearchCV, GridSearchCV\n",
        "\n",
        "# Modelling Libraries\n",
        "from sklearn.linear_model import LogisticRegression\n",
        "from sklearn.neighbors import KNeighborsClassifier\n",
        "from sklearn.tree import DecisionTreeClassifier\n",
        "from sklearn.ensemble import BaggingClassifier\n",
        "from sklearn.ensemble import RandomForestClassifier\n",
        "from xgboost import XGBClassifier\n",
        "\n",
        "# Evaluasi Liblaries\n",
        "from sklearn.metrics import accuracy_score"
      ]
    },
    {
      "cell_type": "markdown",
      "metadata": {
        "id": "MmfyzHXQ4wdD"
      },
      "source": [
        "# Data Understanding"
      ]
    },
    {
      "attachments": {},
      "cell_type": "markdown",
      "metadata": {
        "id": "51wrJwHn5KTA"
      },
      "source": [
        "Deskripsi Variabel:\n",
        "\n",
        "1. **pH**: indikator kondisi asam atau basa status air (0-14).\n",
        "2. **Hardness**: Hardness adalah Kapasitas air untuk mengendapkan sabun dalam mg/L.\n",
        "3. **Solids**: Total padatan terlarut dalam ppm.\n",
        "4. **Chloramines**: Jumlah Kloramin dalam ppm.\n",
        "5. **Sulfate**: Jumlah Sulfat yang dilarutkan dalam mg/L.\n",
        "6. **Conductivity**: Konduktivitas listrik terhadap air dalam μS/cm..\n",
        "7. **Organic_carbon**: Jumlah karbon organik dalam ppm.\n",
        "8. **Trihalomethanes**: Jumlah Trihalomethanes dalam g/L.\n",
        "9. **Turbidity**: Ukuran sifat pemancar cahaya terhadap air di NTU.\n",
        "10. **Potability**: Menunjukkan apakah air aman untuk dikonsumsi manusia. Potable(1) dan Not potable(0)"
      ]
    },
    {
      "cell_type": "code",
      "execution_count": 2,
      "metadata": {
        "colab": {
          "base_uri": "https://localhost:8080/",
          "height": 420
        },
        "id": "kTGAWx7YHgWd",
        "outputId": "2219398c-373a-4e24-e2ad-13b693ecb616"
      },
      "outputs": [
        {
          "data": {
            "text/html": [
              "<div>\n",
              "<style scoped>\n",
              "    .dataframe tbody tr th:only-of-type {\n",
              "        vertical-align: middle;\n",
              "    }\n",
              "\n",
              "    .dataframe tbody tr th {\n",
              "        vertical-align: top;\n",
              "    }\n",
              "\n",
              "    .dataframe thead th {\n",
              "        text-align: right;\n",
              "    }\n",
              "</style>\n",
              "<table border=\"1\" class=\"dataframe\">\n",
              "  <thead>\n",
              "    <tr style=\"text-align: right;\">\n",
              "      <th></th>\n",
              "      <th>ph</th>\n",
              "      <th>Hardness</th>\n",
              "      <th>Solids</th>\n",
              "      <th>Chloramines</th>\n",
              "      <th>Sulfate</th>\n",
              "      <th>Conductivity</th>\n",
              "      <th>Organic_carbon</th>\n",
              "      <th>Trihalomethanes</th>\n",
              "      <th>Turbidity</th>\n",
              "      <th>Potability</th>\n",
              "    </tr>\n",
              "  </thead>\n",
              "  <tbody>\n",
              "    <tr>\n",
              "      <th>0</th>\n",
              "      <td>NaN</td>\n",
              "      <td>204.890455</td>\n",
              "      <td>20791.318981</td>\n",
              "      <td>7.300212</td>\n",
              "      <td>368.516441</td>\n",
              "      <td>564.308654</td>\n",
              "      <td>10.379783</td>\n",
              "      <td>86.990970</td>\n",
              "      <td>2.963135</td>\n",
              "      <td>0</td>\n",
              "    </tr>\n",
              "    <tr>\n",
              "      <th>1</th>\n",
              "      <td>3.716080</td>\n",
              "      <td>129.422921</td>\n",
              "      <td>18630.057858</td>\n",
              "      <td>6.635246</td>\n",
              "      <td>NaN</td>\n",
              "      <td>592.885359</td>\n",
              "      <td>15.180013</td>\n",
              "      <td>56.329076</td>\n",
              "      <td>4.500656</td>\n",
              "      <td>0</td>\n",
              "    </tr>\n",
              "    <tr>\n",
              "      <th>2</th>\n",
              "      <td>8.099124</td>\n",
              "      <td>224.236259</td>\n",
              "      <td>19909.541732</td>\n",
              "      <td>9.275884</td>\n",
              "      <td>NaN</td>\n",
              "      <td>418.606213</td>\n",
              "      <td>16.868637</td>\n",
              "      <td>66.420093</td>\n",
              "      <td>3.055934</td>\n",
              "      <td>0</td>\n",
              "    </tr>\n",
              "    <tr>\n",
              "      <th>3</th>\n",
              "      <td>8.316766</td>\n",
              "      <td>214.373394</td>\n",
              "      <td>22018.417441</td>\n",
              "      <td>8.059332</td>\n",
              "      <td>356.886136</td>\n",
              "      <td>363.266516</td>\n",
              "      <td>18.436524</td>\n",
              "      <td>100.341674</td>\n",
              "      <td>4.628771</td>\n",
              "      <td>0</td>\n",
              "    </tr>\n",
              "    <tr>\n",
              "      <th>4</th>\n",
              "      <td>9.092223</td>\n",
              "      <td>181.101509</td>\n",
              "      <td>17978.986339</td>\n",
              "      <td>6.546600</td>\n",
              "      <td>310.135738</td>\n",
              "      <td>398.410813</td>\n",
              "      <td>11.558279</td>\n",
              "      <td>31.997993</td>\n",
              "      <td>4.075075</td>\n",
              "      <td>0</td>\n",
              "    </tr>\n",
              "    <tr>\n",
              "      <th>...</th>\n",
              "      <td>...</td>\n",
              "      <td>...</td>\n",
              "      <td>...</td>\n",
              "      <td>...</td>\n",
              "      <td>...</td>\n",
              "      <td>...</td>\n",
              "      <td>...</td>\n",
              "      <td>...</td>\n",
              "      <td>...</td>\n",
              "      <td>...</td>\n",
              "    </tr>\n",
              "    <tr>\n",
              "      <th>3271</th>\n",
              "      <td>4.668102</td>\n",
              "      <td>193.681735</td>\n",
              "      <td>47580.991603</td>\n",
              "      <td>7.166639</td>\n",
              "      <td>359.948574</td>\n",
              "      <td>526.424171</td>\n",
              "      <td>13.894419</td>\n",
              "      <td>66.687695</td>\n",
              "      <td>4.435821</td>\n",
              "      <td>1</td>\n",
              "    </tr>\n",
              "    <tr>\n",
              "      <th>3272</th>\n",
              "      <td>7.808856</td>\n",
              "      <td>193.553212</td>\n",
              "      <td>17329.802160</td>\n",
              "      <td>8.061362</td>\n",
              "      <td>NaN</td>\n",
              "      <td>392.449580</td>\n",
              "      <td>19.903225</td>\n",
              "      <td>NaN</td>\n",
              "      <td>2.798243</td>\n",
              "      <td>1</td>\n",
              "    </tr>\n",
              "    <tr>\n",
              "      <th>3273</th>\n",
              "      <td>9.419510</td>\n",
              "      <td>175.762646</td>\n",
              "      <td>33155.578218</td>\n",
              "      <td>7.350233</td>\n",
              "      <td>NaN</td>\n",
              "      <td>432.044783</td>\n",
              "      <td>11.039070</td>\n",
              "      <td>69.845400</td>\n",
              "      <td>3.298875</td>\n",
              "      <td>1</td>\n",
              "    </tr>\n",
              "    <tr>\n",
              "      <th>3274</th>\n",
              "      <td>5.126763</td>\n",
              "      <td>230.603758</td>\n",
              "      <td>11983.869376</td>\n",
              "      <td>6.303357</td>\n",
              "      <td>NaN</td>\n",
              "      <td>402.883113</td>\n",
              "      <td>11.168946</td>\n",
              "      <td>77.488213</td>\n",
              "      <td>4.708658</td>\n",
              "      <td>1</td>\n",
              "    </tr>\n",
              "    <tr>\n",
              "      <th>3275</th>\n",
              "      <td>7.874671</td>\n",
              "      <td>195.102299</td>\n",
              "      <td>17404.177061</td>\n",
              "      <td>7.509306</td>\n",
              "      <td>NaN</td>\n",
              "      <td>327.459760</td>\n",
              "      <td>16.140368</td>\n",
              "      <td>78.698446</td>\n",
              "      <td>2.309149</td>\n",
              "      <td>1</td>\n",
              "    </tr>\n",
              "  </tbody>\n",
              "</table>\n",
              "<p>3276 rows × 10 columns</p>\n",
              "</div>"
            ],
            "text/plain": [
              "            ph    Hardness        Solids  Chloramines     Sulfate  \\\n",
              "0          NaN  204.890455  20791.318981     7.300212  368.516441   \n",
              "1     3.716080  129.422921  18630.057858     6.635246         NaN   \n",
              "2     8.099124  224.236259  19909.541732     9.275884         NaN   \n",
              "3     8.316766  214.373394  22018.417441     8.059332  356.886136   \n",
              "4     9.092223  181.101509  17978.986339     6.546600  310.135738   \n",
              "...        ...         ...           ...          ...         ...   \n",
              "3271  4.668102  193.681735  47580.991603     7.166639  359.948574   \n",
              "3272  7.808856  193.553212  17329.802160     8.061362         NaN   \n",
              "3273  9.419510  175.762646  33155.578218     7.350233         NaN   \n",
              "3274  5.126763  230.603758  11983.869376     6.303357         NaN   \n",
              "3275  7.874671  195.102299  17404.177061     7.509306         NaN   \n",
              "\n",
              "      Conductivity  Organic_carbon  Trihalomethanes  Turbidity  Potability  \n",
              "0       564.308654       10.379783        86.990970   2.963135           0  \n",
              "1       592.885359       15.180013        56.329076   4.500656           0  \n",
              "2       418.606213       16.868637        66.420093   3.055934           0  \n",
              "3       363.266516       18.436524       100.341674   4.628771           0  \n",
              "4       398.410813       11.558279        31.997993   4.075075           0  \n",
              "...            ...             ...              ...        ...         ...  \n",
              "3271    526.424171       13.894419        66.687695   4.435821           1  \n",
              "3272    392.449580       19.903225              NaN   2.798243           1  \n",
              "3273    432.044783       11.039070        69.845400   3.298875           1  \n",
              "3274    402.883113       11.168946        77.488213   4.708658           1  \n",
              "3275    327.459760       16.140368        78.698446   2.309149           1  \n",
              "\n",
              "[3276 rows x 10 columns]"
            ]
          },
          "execution_count": 2,
          "metadata": {},
          "output_type": "execute_result"
        }
      ],
      "source": [
        "df = pd.read_csv('./water_potability.csv')\n",
        "df"
      ]
    },
    {
      "cell_type": "markdown",
      "metadata": {
        "id": "PnRtTZcDXyIj"
      },
      "source": [
        "## Memeriksa Missing Value dan Menangani Missing Value"
      ]
    },
    {
      "cell_type": "code",
      "execution_count": 3,
      "metadata": {
        "colab": {
          "base_uri": "https://localhost:8080/"
        },
        "id": "SSaYJMi2YCbC",
        "outputId": "fc2954be-06f8-4d1b-94f3-5de7ba444876"
      },
      "outputs": [
        {
          "data": {
            "text/plain": [
              "ph                 491\n",
              "Hardness             0\n",
              "Solids               0\n",
              "Chloramines          0\n",
              "Sulfate            781\n",
              "Conductivity         0\n",
              "Organic_carbon       0\n",
              "Trihalomethanes    162\n",
              "Turbidity            0\n",
              "Potability           0\n",
              "dtype: int64"
            ]
          },
          "execution_count": 3,
          "metadata": {},
          "output_type": "execute_result"
        }
      ],
      "source": [
        "df.isnull().sum()"
      ]
    },
    {
      "cell_type": "code",
      "execution_count": 4,
      "metadata": {
        "id": "GdKB8apfYHeY"
      },
      "outputs": [],
      "source": [
        "# Membuang Missing values karena kualitas air adalah data yang sensitif,\n",
        "# kita tidak dapat mengubah data dengan memasukkan mean, median dan mode\n",
        "df= df.dropna()"
      ]
    },
    {
      "cell_type": "code",
      "execution_count": 5,
      "metadata": {},
      "outputs": [
        {
          "data": {
            "text/plain": [
              "ph                 0\n",
              "Hardness           0\n",
              "Solids             0\n",
              "Chloramines        0\n",
              "Sulfate            0\n",
              "Conductivity       0\n",
              "Organic_carbon     0\n",
              "Trihalomethanes    0\n",
              "Turbidity          0\n",
              "Potability         0\n",
              "dtype: int64"
            ]
          },
          "execution_count": 5,
          "metadata": {},
          "output_type": "execute_result"
        }
      ],
      "source": [
        "df.isnull().sum()\n"
      ]
    },
    {
      "cell_type": "code",
      "execution_count": 6,
      "metadata": {
        "colab": {
          "base_uri": "https://localhost:8080/"
        },
        "id": "CLH6sqzSZRzX",
        "outputId": "5b0f0841-7635-4ef3-c232-2b392f6291d6"
      },
      "outputs": [
        {
          "data": {
            "text/plain": [
              "0    1200\n",
              "1     811\n",
              "Name: Potability, dtype: int64"
            ]
          },
          "execution_count": 6,
          "metadata": {},
          "output_type": "execute_result"
        }
      ],
      "source": [
        "df.Potability.value_counts()"
      ]
    },
    {
      "cell_type": "markdown",
      "metadata": {
        "id": "VExxNg1VZr-U"
      },
      "source": [
        "## Memeriksa Distribusi Data"
      ]
    },
    {
      "cell_type": "code",
      "execution_count": 7,
      "metadata": {
        "colab": {
          "base_uri": "https://localhost:8080/",
          "height": 88
        },
        "id": "VNgE6R4jac1o",
        "outputId": "78e280a2-33c7-4768-c084-4050aa7170be"
      },
      "outputs": [
        {
          "data": {
            "image/png": "[encoded data removed]",
            "text/plain": [
              "<Figure size 600x100 with 1 Axes>"
            ]
          },
          "metadata": {},
          "output_type": "display_data"
        }
      ],
      "source": [
        "colors = sns.color_palette('Set2')[0:6]\n",
        "sns.palplot(colors)"
      ]
    },
    {
      "cell_type": "code",
      "execution_count": 8,
      "metadata": {
        "colab": {
          "base_uri": "https://localhost:8080/",
          "height": 377
        },
        "id": "p0ZBdkolZg5U",
        "outputId": "c6749c00-61d4-479b-deec-d20f85618791"
      },
      "outputs": [
        {
          "data": {
            "image/png": "[encoded data removed]",
            "text/plain": [
              "<Figure size 1500x600 with 1 Axes>"
            ]
          },
          "metadata": {},
          "output_type": "display_data"
        }
      ],
      "source": [
        "labels = ['0: Non-Potable', '1: Potable']\n",
        "data = [df['Potability'].value_counts()[0],\n",
        "         df['Potability'].value_counts()[1]\n",
        "        ]\n",
        "fig1, ax1 = plt.subplots(figsize=[15,6])\n",
        "ax1.pie(data, labels=labels, autopct='%1.1f%%',pctdistance=0.5, colors = colors)\n",
        "plt.title(\"Water Potability\", fontsize=20);\n",
        "plt.show()"
      ]
    },
    {
      "cell_type": "markdown",
      "metadata": {
        "id": "mVIve4DxdBXc"
      },
      "source": [
        "dataset yang kita punya tidak seimbang, karena non-Potable lebih banyak dari Potable. maka dari itu kita akan menyeimbangkan datanya agar tidak bias"
      ]
    },
    {
      "cell_type": "code",
      "execution_count": 9,
      "metadata": {
        "id": "77mXE1l7cdB8"
      },
      "outputs": [],
      "source": [
        "zero  = df[df['Potability'] == 0]\n",
        "one = df[df['Potability'] == 1]\n",
        "\n",
        "df_minority_upsampled = resample(one, replace = True, n_samples = 1200) \n",
        "df = pd.concat([zero, df_minority_upsampled])\n",
        "df = shuffle(df)"
      ]
    },
    {
      "cell_type": "code",
      "execution_count": 10,
      "metadata": {
        "colab": {
          "base_uri": "https://localhost:8080/",
          "height": 377
        },
        "id": "BLRuv9NldqtF",
        "outputId": "fc827189-0f17-4b5d-bdbd-30bb52255058"
      },
      "outputs": [
        {
          "data": {
            "image/png": "[encoded data removed]",
            "text/plain": [
              "<Figure size 1500x600 with 1 Axes>"
            ]
          },
          "metadata": {},
          "output_type": "display_data"
        }
      ],
      "source": [
        "labels = ['0: Non-Potable', '1: Potable']\n",
        "data = [df['Potability'].value_counts()[0],\n",
        "         df['Potability'].value_counts()[1]\n",
        "        ]\n",
        "fig1, ax1 = plt.subplots(figsize=[15,6])\n",
        "ax1.pie(data, labels=labels, autopct='%1.1f%%',pctdistance=0.5, colors = colors)\n",
        "plt.title(\"Water Potability\", fontsize=20);\n",
        "plt.show()"
      ]
    },
    {
      "cell_type": "markdown",
      "metadata": {
        "id": "CfeGl5r65d14"
      },
      "source": [
        "# Data Preparation"
      ]
    },
    {
      "cell_type": "markdown",
      "metadata": {
        "id": "Jo276M2P8c4K"
      },
      "source": [
        "## Train-Test-Split"
      ]
    },
    {
      "cell_type": "code",
      "execution_count": 11,
      "metadata": {
        "id": "4BdDSDwLtjhS"
      },
      "outputs": [],
      "source": [
        "X = df.drop(['Potability'], axis = 1)\n",
        "y = df['Potability']"
      ]
    },
    {
      "cell_type": "code",
      "execution_count": 12,
      "metadata": {
        "id": "BaLVZ_cUvKN_"
      },
      "outputs": [],
      "source": [
        "X_train, X_test, y_train, y_test = train_test_split(X, y, test_size = 0.1, random_state=42)"
      ]
    },
    {
      "cell_type": "code",
      "execution_count": 13,
      "metadata": {
        "colab": {
          "base_uri": "https://localhost:8080/"
        },
        "id": "RT6qXmMfwY25",
        "outputId": "65e2e004-fbbf-4a4b-d20a-8844d6d024dc"
      },
      "outputs": [
        {
          "name": "stdout",
          "output_type": "stream",
          "text": [
            "Total feature dari semua sample dataset: 2400\n",
            "Total feature dari sample train dataset: 2160\n",
            "Total feature dari sample test dataset: 240\n",
            "Total label dari semua sample dataset: 2400\n",
            "Total label dari sample train dataset: 2160\n",
            "Total label dari sample test dataset: 240\n"
          ]
        }
      ],
      "source": [
        "print(f'Total feature dari semua sample dataset: {len(X)}')\n",
        "print(f'Total feature dari sample train dataset: {len(X_train)}')\n",
        "print(f'Total feature dari sample test dataset: {len(X_test)}')\n",
        "\n",
        "print(f'Total label dari semua sample dataset: {len(y)}')\n",
        "print(f'Total label dari sample train dataset: {len(y_train)}')\n",
        "print(f'Total label dari sample test dataset: {len(y_test)}')"
      ]
    },
    {
      "cell_type": "markdown",
      "metadata": {
        "id": "wxmm5cJ6fEVn"
      },
      "source": [
        "## Standarisasi"
      ]
    },
    {
      "cell_type": "code",
      "execution_count": 14,
      "metadata": {
        "colab": {
          "base_uri": "https://localhost:8080/",
          "height": 204
        },
        "id": "z45N7lV7QQRI",
        "outputId": "6736ae43-ae51-4ccb-d226-7d7d64bd5f9e"
      },
      "outputs": [
        {
          "data": {
            "text/html": [
              "<div>\n",
              "<style scoped>\n",
              "    .dataframe tbody tr th:only-of-type {\n",
              "        vertical-align: middle;\n",
              "    }\n",
              "\n",
              "    .dataframe tbody tr th {\n",
              "        vertical-align: top;\n",
              "    }\n",
              "\n",
              "    .dataframe thead th {\n",
              "        text-align: right;\n",
              "    }\n",
              "</style>\n",
              "<table border=\"1\" class=\"dataframe\">\n",
              "  <thead>\n",
              "    <tr style=\"text-align: right;\">\n",
              "      <th></th>\n",
              "      <th>ph</th>\n",
              "      <th>Hardness</th>\n",
              "      <th>Solids</th>\n",
              "      <th>Chloramines</th>\n",
              "      <th>Sulfate</th>\n",
              "      <th>Conductivity</th>\n",
              "      <th>Organic_carbon</th>\n",
              "      <th>Trihalomethanes</th>\n",
              "      <th>Turbidity</th>\n",
              "    </tr>\n",
              "  </thead>\n",
              "  <tbody>\n",
              "    <tr>\n",
              "      <th>3212</th>\n",
              "      <td>5.913755</td>\n",
              "      <td>175.326062</td>\n",
              "      <td>12044.624691</td>\n",
              "      <td>8.368785</td>\n",
              "      <td>347.880372</td>\n",
              "      <td>380.967166</td>\n",
              "      <td>12.530827</td>\n",
              "      <td>65.194053</td>\n",
              "      <td>4.023776</td>\n",
              "    </tr>\n",
              "    <tr>\n",
              "      <th>2835</th>\n",
              "      <td>7.021617</td>\n",
              "      <td>203.201197</td>\n",
              "      <td>12352.811105</td>\n",
              "      <td>6.845744</td>\n",
              "      <td>380.804054</td>\n",
              "      <td>435.674393</td>\n",
              "      <td>14.507013</td>\n",
              "      <td>68.233386</td>\n",
              "      <td>3.855636</td>\n",
              "    </tr>\n",
              "    <tr>\n",
              "      <th>3203</th>\n",
              "      <td>9.052384</td>\n",
              "      <td>120.021726</td>\n",
              "      <td>22203.487259</td>\n",
              "      <td>9.368340</td>\n",
              "      <td>285.233528</td>\n",
              "      <td>372.275232</td>\n",
              "      <td>14.538446</td>\n",
              "      <td>64.132426</td>\n",
              "      <td>4.259719</td>\n",
              "    </tr>\n",
              "    <tr>\n",
              "      <th>2291</th>\n",
              "      <td>6.095512</td>\n",
              "      <td>200.045818</td>\n",
              "      <td>16404.941420</td>\n",
              "      <td>6.392095</td>\n",
              "      <td>366.017336</td>\n",
              "      <td>444.454211</td>\n",
              "      <td>16.029989</td>\n",
              "      <td>72.301702</td>\n",
              "      <td>4.302016</td>\n",
              "    </tr>\n",
              "    <tr>\n",
              "      <th>2761</th>\n",
              "      <td>6.393231</td>\n",
              "      <td>185.836158</td>\n",
              "      <td>17258.114035</td>\n",
              "      <td>7.329999</td>\n",
              "      <td>330.132139</td>\n",
              "      <td>326.427055</td>\n",
              "      <td>11.650393</td>\n",
              "      <td>47.640014</td>\n",
              "      <td>3.644388</td>\n",
              "    </tr>\n",
              "  </tbody>\n",
              "</table>\n",
              "</div>"
            ],
            "text/plain": [
              "            ph    Hardness        Solids  Chloramines     Sulfate  \\\n",
              "3212  5.913755  175.326062  12044.624691     8.368785  347.880372   \n",
              "2835  7.021617  203.201197  12352.811105     6.845744  380.804054   \n",
              "3203  9.052384  120.021726  22203.487259     9.368340  285.233528   \n",
              "2291  6.095512  200.045818  16404.941420     6.392095  366.017336   \n",
              "2761  6.393231  185.836158  17258.114035     7.329999  330.132139   \n",
              "\n",
              "      Conductivity  Organic_carbon  Trihalomethanes  Turbidity  \n",
              "3212    380.967166       12.530827        65.194053   4.023776  \n",
              "2835    435.674393       14.507013        68.233386   3.855636  \n",
              "3203    372.275232       14.538446        64.132426   4.259719  \n",
              "2291    444.454211       16.029989        72.301702   4.302016  \n",
              "2761    326.427055       11.650393        47.640014   3.644388  "
            ]
          },
          "execution_count": 14,
          "metadata": {},
          "output_type": "execute_result"
        }
      ],
      "source": [
        "X_train.head()"
      ]
    },
    {
      "cell_type": "code",
      "execution_count": 15,
      "metadata": {
        "colab": {
          "base_uri": "https://localhost:8080/",
          "height": 204
        },
        "id": "teslqGCZQTEk",
        "outputId": "782d9263-9f15-4dbc-c366-67b866eecf54"
      },
      "outputs": [
        {
          "data": {
            "text/html": [
              "<div>\n",
              "<style scoped>\n",
              "    .dataframe tbody tr th:only-of-type {\n",
              "        vertical-align: middle;\n",
              "    }\n",
              "\n",
              "    .dataframe tbody tr th {\n",
              "        vertical-align: top;\n",
              "    }\n",
              "\n",
              "    .dataframe thead th {\n",
              "        text-align: right;\n",
              "    }\n",
              "</style>\n",
              "<table border=\"1\" class=\"dataframe\">\n",
              "  <thead>\n",
              "    <tr style=\"text-align: right;\">\n",
              "      <th></th>\n",
              "      <th>ph</th>\n",
              "      <th>Hardness</th>\n",
              "      <th>Solids</th>\n",
              "      <th>Chloramines</th>\n",
              "      <th>Sulfate</th>\n",
              "      <th>Conductivity</th>\n",
              "      <th>Organic_carbon</th>\n",
              "      <th>Trihalomethanes</th>\n",
              "      <th>Turbidity</th>\n",
              "    </tr>\n",
              "  </thead>\n",
              "  <tbody>\n",
              "    <tr>\n",
              "      <th>238</th>\n",
              "      <td>7.436783</td>\n",
              "      <td>208.094004</td>\n",
              "      <td>28544.616287</td>\n",
              "      <td>6.500053</td>\n",
              "      <td>339.023898</td>\n",
              "      <td>522.793730</td>\n",
              "      <td>17.115276</td>\n",
              "      <td>65.311277</td>\n",
              "      <td>3.727664</td>\n",
              "    </tr>\n",
              "    <tr>\n",
              "      <th>2356</th>\n",
              "      <td>5.498515</td>\n",
              "      <td>180.825114</td>\n",
              "      <td>21542.830032</td>\n",
              "      <td>6.707095</td>\n",
              "      <td>352.250711</td>\n",
              "      <td>419.512958</td>\n",
              "      <td>13.183432</td>\n",
              "      <td>68.904370</td>\n",
              "      <td>3.074815</td>\n",
              "    </tr>\n",
              "    <tr>\n",
              "      <th>3167</th>\n",
              "      <td>6.028349</td>\n",
              "      <td>225.674872</td>\n",
              "      <td>12145.544596</td>\n",
              "      <td>6.126270</td>\n",
              "      <td>365.961711</td>\n",
              "      <td>503.112147</td>\n",
              "      <td>15.651888</td>\n",
              "      <td>73.400578</td>\n",
              "      <td>3.142084</td>\n",
              "    </tr>\n",
              "    <tr>\n",
              "      <th>3230</th>\n",
              "      <td>8.659113</td>\n",
              "      <td>114.807578</td>\n",
              "      <td>23514.636647</td>\n",
              "      <td>8.735315</td>\n",
              "      <td>333.027205</td>\n",
              "      <td>318.640679</td>\n",
              "      <td>16.559076</td>\n",
              "      <td>52.866373</td>\n",
              "      <td>2.895774</td>\n",
              "    </tr>\n",
              "    <tr>\n",
              "      <th>978</th>\n",
              "      <td>7.595670</td>\n",
              "      <td>207.115470</td>\n",
              "      <td>13486.142191</td>\n",
              "      <td>6.192663</td>\n",
              "      <td>328.209566</td>\n",
              "      <td>452.445746</td>\n",
              "      <td>14.810630</td>\n",
              "      <td>88.020365</td>\n",
              "      <td>3.403393</td>\n",
              "    </tr>\n",
              "  </tbody>\n",
              "</table>\n",
              "</div>"
            ],
            "text/plain": [
              "            ph    Hardness        Solids  Chloramines     Sulfate  \\\n",
              "238   7.436783  208.094004  28544.616287     6.500053  339.023898   \n",
              "2356  5.498515  180.825114  21542.830032     6.707095  352.250711   \n",
              "3167  6.028349  225.674872  12145.544596     6.126270  365.961711   \n",
              "3230  8.659113  114.807578  23514.636647     8.735315  333.027205   \n",
              "978   7.595670  207.115470  13486.142191     6.192663  328.209566   \n",
              "\n",
              "      Conductivity  Organic_carbon  Trihalomethanes  Turbidity  \n",
              "238     522.793730       17.115276        65.311277   3.727664  \n",
              "2356    419.512958       13.183432        68.904370   3.074815  \n",
              "3167    503.112147       15.651888        73.400578   3.142084  \n",
              "3230    318.640679       16.559076        52.866373   2.895774  \n",
              "978     452.445746       14.810630        88.020365   3.403393  "
            ]
          },
          "execution_count": 15,
          "metadata": {},
          "output_type": "execute_result"
        }
      ],
      "source": [
        "X_test.head()"
      ]
    },
    {
      "cell_type": "code",
      "execution_count": 16,
      "metadata": {
        "id": "RlJc3PBSyA8Z"
      },
      "outputs": [],
      "source": [
        "scaler = StandardScaler()\n",
        "\n",
        "features = X_train.columns\n",
        "test_features = X_test.columns\n",
        "\n",
        "scaler.fit(X_train[features])\n",
        "scaler.fit(X_test[test_features])\n",
        "\n",
        "X_train[features] = scaler.transform(X_train.loc[:, features])\n",
        "X_test[test_features] = scaler.transform(X_test.loc[:, test_features])"
      ]
    },
    {
      "cell_type": "code",
      "execution_count": 17,
      "metadata": {
        "colab": {
          "base_uri": "https://localhost:8080/",
          "height": 204
        },
        "id": "5vHFz97kQEI1",
        "outputId": "0448f765-78d7-43e9-fd1a-930791cf7a5f"
      },
      "outputs": [
        {
          "data": {
            "text/html": [
              "<div>\n",
              "<style scoped>\n",
              "    .dataframe tbody tr th:only-of-type {\n",
              "        vertical-align: middle;\n",
              "    }\n",
              "\n",
              "    .dataframe tbody tr th {\n",
              "        vertical-align: top;\n",
              "    }\n",
              "\n",
              "    .dataframe thead th {\n",
              "        text-align: right;\n",
              "    }\n",
              "</style>\n",
              "<table border=\"1\" class=\"dataframe\">\n",
              "  <thead>\n",
              "    <tr style=\"text-align: right;\">\n",
              "      <th></th>\n",
              "      <th>ph</th>\n",
              "      <th>Hardness</th>\n",
              "      <th>Solids</th>\n",
              "      <th>Chloramines</th>\n",
              "      <th>Sulfate</th>\n",
              "      <th>Conductivity</th>\n",
              "      <th>Organic_carbon</th>\n",
              "      <th>Trihalomethanes</th>\n",
              "      <th>Turbidity</th>\n",
              "    </tr>\n",
              "  </thead>\n",
              "  <tbody>\n",
              "    <tr>\n",
              "      <th>3212</th>\n",
              "      <td>-0.753285</td>\n",
              "      <td>-0.707770</td>\n",
              "      <td>-1.106889</td>\n",
              "      <td>0.844037</td>\n",
              "      <td>0.449156</td>\n",
              "      <td>-0.608600</td>\n",
              "      <td>-0.545747</td>\n",
              "      <td>-0.079274</td>\n",
              "      <td>0.061142</td>\n",
              "    </tr>\n",
              "    <tr>\n",
              "      <th>2835</th>\n",
              "      <td>-0.000671</td>\n",
              "      <td>0.162538</td>\n",
              "      <td>-1.070774</td>\n",
              "      <td>-0.178732</td>\n",
              "      <td>1.395877</td>\n",
              "      <td>0.107267</td>\n",
              "      <td>0.065670</td>\n",
              "      <td>0.130021</td>\n",
              "      <td>-0.152893</td>\n",
              "    </tr>\n",
              "    <tr>\n",
              "      <th>3203</th>\n",
              "      <td>1.378907</td>\n",
              "      <td>-2.434464</td>\n",
              "      <td>0.083575</td>\n",
              "      <td>1.515269</td>\n",
              "      <td>-1.352256</td>\n",
              "      <td>-0.722338</td>\n",
              "      <td>0.075395</td>\n",
              "      <td>-0.152379</td>\n",
              "      <td>0.361490</td>\n",
              "    </tr>\n",
              "    <tr>\n",
              "      <th>2291</th>\n",
              "      <td>-0.629810</td>\n",
              "      <td>0.064022</td>\n",
              "      <td>-0.595926</td>\n",
              "      <td>-0.483372</td>\n",
              "      <td>0.970685</td>\n",
              "      <td>0.222155</td>\n",
              "      <td>0.536867</td>\n",
              "      <td>0.410173</td>\n",
              "      <td>0.415331</td>\n",
              "    </tr>\n",
              "    <tr>\n",
              "      <th>2761</th>\n",
              "      <td>-0.427558</td>\n",
              "      <td>-0.379627</td>\n",
              "      <td>-0.495947</td>\n",
              "      <td>0.146460</td>\n",
              "      <td>-0.061195</td>\n",
              "      <td>-1.322281</td>\n",
              "      <td>-0.818146</td>\n",
              "      <td>-1.288079</td>\n",
              "      <td>-0.421804</td>\n",
              "    </tr>\n",
              "  </tbody>\n",
              "</table>\n",
              "</div>"
            ],
            "text/plain": [
              "            ph  Hardness    Solids  Chloramines   Sulfate  Conductivity  \\\n",
              "3212 -0.753285 -0.707770 -1.106889     0.844037  0.449156     -0.608600   \n",
              "2835 -0.000671  0.162538 -1.070774    -0.178732  1.395877      0.107267   \n",
              "3203  1.378907 -2.434464  0.083575     1.515269 -1.352256     -0.722338   \n",
              "2291 -0.629810  0.064022 -0.595926    -0.483372  0.970685      0.222155   \n",
              "2761 -0.427558 -0.379627 -0.495947     0.146460 -0.061195     -1.322281   \n",
              "\n",
              "      Organic_carbon  Trihalomethanes  Turbidity  \n",
              "3212       -0.545747        -0.079274   0.061142  \n",
              "2835        0.065670         0.130021  -0.152893  \n",
              "3203        0.075395        -0.152379   0.361490  \n",
              "2291        0.536867         0.410173   0.415331  \n",
              "2761       -0.818146        -1.288079  -0.421804  "
            ]
          },
          "execution_count": 17,
          "metadata": {},
          "output_type": "execute_result"
        }
      ],
      "source": [
        "X_train.head()"
      ]
    },
    {
      "cell_type": "code",
      "execution_count": 18,
      "metadata": {
        "colab": {
          "base_uri": "https://localhost:8080/",
          "height": 204
        },
        "id": "dB3MUJ_3QF1l",
        "outputId": "5dd475af-e65c-43f2-8cfd-c5d4d297466b"
      },
      "outputs": [
        {
          "data": {
            "text/html": [
              "<div>\n",
              "<style scoped>\n",
              "    .dataframe tbody tr th:only-of-type {\n",
              "        vertical-align: middle;\n",
              "    }\n",
              "\n",
              "    .dataframe tbody tr th {\n",
              "        vertical-align: top;\n",
              "    }\n",
              "\n",
              "    .dataframe thead th {\n",
              "        text-align: right;\n",
              "    }\n",
              "</style>\n",
              "<table border=\"1\" class=\"dataframe\">\n",
              "  <thead>\n",
              "    <tr style=\"text-align: right;\">\n",
              "      <th></th>\n",
              "      <th>ph</th>\n",
              "      <th>Hardness</th>\n",
              "      <th>Solids</th>\n",
              "      <th>Chloramines</th>\n",
              "      <th>Sulfate</th>\n",
              "      <th>Conductivity</th>\n",
              "      <th>Organic_carbon</th>\n",
              "      <th>Trihalomethanes</th>\n",
              "      <th>Turbidity</th>\n",
              "    </tr>\n",
              "  </thead>\n",
              "  <tbody>\n",
              "    <tr>\n",
              "      <th>238</th>\n",
              "      <td>0.281366</td>\n",
              "      <td>0.315300</td>\n",
              "      <td>0.826658</td>\n",
              "      <td>-0.410874</td>\n",
              "      <td>0.194487</td>\n",
              "      <td>1.247262</td>\n",
              "      <td>0.872646</td>\n",
              "      <td>-0.071201</td>\n",
              "      <td>-0.315797</td>\n",
              "    </tr>\n",
              "    <tr>\n",
              "      <th>2356</th>\n",
              "      <td>-1.035374</td>\n",
              "      <td>-0.536080</td>\n",
              "      <td>0.006156</td>\n",
              "      <td>-0.271839</td>\n",
              "      <td>0.574825</td>\n",
              "      <td>-0.104212</td>\n",
              "      <td>-0.343836</td>\n",
              "      <td>0.176226</td>\n",
              "      <td>-1.146848</td>\n",
              "    </tr>\n",
              "    <tr>\n",
              "      <th>3167</th>\n",
              "      <td>-0.675437</td>\n",
              "      <td>0.864204</td>\n",
              "      <td>-1.095062</td>\n",
              "      <td>-0.661881</td>\n",
              "      <td>0.969085</td>\n",
              "      <td>0.989719</td>\n",
              "      <td>0.419885</td>\n",
              "      <td>0.485844</td>\n",
              "      <td>-1.061218</td>\n",
              "    </tr>\n",
              "    <tr>\n",
              "      <th>3230</th>\n",
              "      <td>1.111743</td>\n",
              "      <td>-2.597259</td>\n",
              "      <td>0.237221</td>\n",
              "      <td>1.090173</td>\n",
              "      <td>0.022052</td>\n",
              "      <td>-1.424169</td>\n",
              "      <td>0.700562</td>\n",
              "      <td>-0.928182</td>\n",
              "      <td>-1.374761</td>\n",
              "    </tr>\n",
              "    <tr>\n",
              "      <th>978</th>\n",
              "      <td>0.389305</td>\n",
              "      <td>0.284749</td>\n",
              "      <td>-0.937965</td>\n",
              "      <td>-0.617296</td>\n",
              "      <td>-0.116479</td>\n",
              "      <td>0.326728</td>\n",
              "      <td>0.159607</td>\n",
              "      <td>1.492591</td>\n",
              "      <td>-0.728581</td>\n",
              "    </tr>\n",
              "  </tbody>\n",
              "</table>\n",
              "</div>"
            ],
            "text/plain": [
              "            ph  Hardness    Solids  Chloramines   Sulfate  Conductivity  \\\n",
              "238   0.281366  0.315300  0.826658    -0.410874  0.194487      1.247262   \n",
              "2356 -1.035374 -0.536080  0.006156    -0.271839  0.574825     -0.104212   \n",
              "3167 -0.675437  0.864204 -1.095062    -0.661881  0.969085      0.989719   \n",
              "3230  1.111743 -2.597259  0.237221     1.090173  0.022052     -1.424169   \n",
              "978   0.389305  0.284749 -0.937965    -0.617296 -0.116479      0.326728   \n",
              "\n",
              "      Organic_carbon  Trihalomethanes  Turbidity  \n",
              "238         0.872646        -0.071201  -0.315797  \n",
              "2356       -0.343836         0.176226  -1.146848  \n",
              "3167        0.419885         0.485844  -1.061218  \n",
              "3230        0.700562        -0.928182  -1.374761  \n",
              "978         0.159607         1.492591  -0.728581  "
            ]
          },
          "execution_count": 18,
          "metadata": {},
          "output_type": "execute_result"
        }
      ],
      "source": [
        "X_test.head()"
      ]
    },
    {
      "attachments": {},
      "cell_type": "markdown",
      "metadata": {
        "id": "_0buJwHNzB3o"
      },
      "source": [
        "# Modeling\n",
        "Pada tahap modeling digunakan beberapa algoritma hal ini bertujuan untuk mencari algoritma mana yang lebih baik, algoritma yang digunakan pada penelitian ini yaitu Logistic Regression, KNN, Decision Tree, Boosting Algorithm(BaggingClassifier), RandomForestClassifier dan XGBoost.\n",
        "\n",
        "Kemudian digunakan juga RandomizedSearchCV dan GridSearchCV untuk mendapatkan tunning terbaik dalam model.\n",
        "\n",
        "Selanjutnya akan dilakukan akurasi prediksi tiap model dengan menggunakan data baru yaitu X_test sebagai ukuran keberhasilan model yang dibuat.\n",
        "\n",
        "model yang akan dipakai adalah model yang memiliki peforma terbaik."
      ]
    },
    {
      "cell_type": "markdown",
      "metadata": {
        "id": "i-AnOLZHzYVv"
      },
      "source": [
        "## Logistic Regression"
      ]
    },
    {
      "cell_type": "code",
      "execution_count": 19,
      "metadata": {
        "colab": {
          "base_uri": "https://localhost:8080/"
        },
        "id": "uQk4AGVjyzAg",
        "outputId": "fd5f6f96-8bdc-40dc-a327-20a269ad7e85"
      },
      "outputs": [
        {
          "data": {
            "text/plain": [
              "0.5087962962962963"
            ]
          },
          "execution_count": 19,
          "metadata": {},
          "output_type": "execute_result"
        }
      ],
      "source": [
        "logreg = LogisticRegression(random_state=42)\n",
        "logreg.fit(X_train, y_train)\n",
        "logreg.score(X_train, y_train)"
      ]
    },
    {
      "cell_type": "code",
      "execution_count": 20,
      "metadata": {
        "colab": {
          "base_uri": "https://localhost:8080/"
        },
        "id": "z3eR6O-yOGAl",
        "outputId": "57f474c7-ad71-4d40-bdde-8894ee4e2455"
      },
      "outputs": [
        {
          "data": {
            "text/plain": [
              "0.5291666666666667"
            ]
          },
          "execution_count": 20,
          "metadata": {},
          "output_type": "execute_result"
        }
      ],
      "source": [
        "# Predict Logreg\n",
        "logreg_pred = logreg.predict(X_test)\n",
        "logreg_acc = accuracy_score(y_test, logreg_pred)\n",
        "logreg_acc"
      ]
    },
    {
      "cell_type": "markdown",
      "metadata": {
        "id": "2Ge-Rq7L1v1y"
      },
      "source": [
        "## KNN"
      ]
    },
    {
      "cell_type": "code",
      "execution_count": 21,
      "metadata": {
        "colab": {
          "base_uri": "https://localhost:8080/"
        },
        "id": "QmurZf1M0U__",
        "outputId": "62b5d685-d18a-4c40-e4c0-b1ee7394405a"
      },
      "outputs": [
        {
          "name": "stdout",
          "output_type": "stream",
          "text": [
            "Rekomendasi parameter untuk KNN: {'n_neighbors': 1}\n"
          ]
        }
      ],
      "source": [
        "#KNN Tunning\n",
        "knn = KNeighborsClassifier()\n",
        "\n",
        "para_knn = {'n_neighbors':np.arange(1, 30)}  \n",
        "grid_knn = GridSearchCV(knn, param_grid=para_knn, cv=5) \n",
        "\n",
        "grid_knn.fit(X_train, y_train)\n",
        "print(\"Rekomendasi parameter untuk KNN:\", grid_knn.best_params_)"
      ]
    },
    {
      "cell_type": "code",
      "execution_count": 22,
      "metadata": {
        "colab": {
          "base_uri": "https://localhost:8080/"
        },
        "id": "zbXoGzju11d2",
        "outputId": "92c1d03d-9314-4adf-f030-ee0faad2c4bc"
      },
      "outputs": [
        {
          "data": {
            "text/plain": [
              "1.0"
            ]
          },
          "execution_count": 22,
          "metadata": {},
          "output_type": "execute_result"
        }
      ],
      "source": [
        "knn = KNeighborsClassifier(n_neighbors=1)\n",
        "knn.fit(X_train, y_train)\n",
        "knn.score(X_train, y_train)"
      ]
    },
    {
      "cell_type": "code",
      "execution_count": 23,
      "metadata": {
        "colab": {
          "base_uri": "https://localhost:8080/"
        },
        "id": "qOJaCLuFNj_3",
        "outputId": "dbc45bc3-a8b6-40f3-d37a-d5c6a04e4184"
      },
      "outputs": [
        {
          "data": {
            "text/plain": [
              "0.82"
            ]
          },
          "execution_count": 23,
          "metadata": {},
          "output_type": "execute_result"
        }
      ],
      "source": [
        "# Predict KNN\n",
        "knn_pred = knn.predict(X_test)\n",
        "knn_acc = round(accuracy_score(y_test, knn_pred), 2)\n",
        "knn_acc"
      ]
    },
    {
      "cell_type": "markdown",
      "metadata": {
        "id": "220gRevrIHFR"
      },
      "source": [
        "## Decision Tree"
      ]
    },
    {
      "cell_type": "code",
      "execution_count": 24,
      "metadata": {
        "colab": {
          "base_uri": "https://localhost:8080/"
        },
        "id": "ezjRMl4K0hOQ",
        "outputId": "52af0332-5e4c-498b-f243-456875b9b970"
      },
      "outputs": [
        {
          "name": "stdout",
          "output_type": "stream",
          "text": [
            "Rekomendasi parameter untuk deciseion: {'criterion': 'gini', 'max_depth': 39, 'min_samples_leaf': 1}\n"
          ]
        }
      ],
      "source": [
        "# Decision Tree tunning\n",
        "dt = DecisionTreeClassifier()\n",
        "params_dt = {'criterion':['gini','entropy'],\n",
        "             'max_depth':np.arange(1, 50), \n",
        "             'min_samples_leaf':[1,2,4,5,10,20,30,40,80,100]}\n",
        "\n",
        "grid_dt = GridSearchCV(dt, param_grid=params_dt, cv=5)\n",
        "grid_dt.fit(X_train, y_train)\n",
        "print(\"Rekomendasi parameter untuk deciseion:\", grid_dt.best_params_)"
      ]
    },
    {
      "cell_type": "code",
      "execution_count": 25,
      "metadata": {
        "colab": {
          "base_uri": "https://localhost:8080/"
        },
        "id": "CtUB7BiLR1fN",
        "outputId": "4800c11d-b79e-4a43-ecf3-a90f211ebc80"
      },
      "outputs": [
        {
          "data": {
            "text/plain": [
              "1.0"
            ]
          },
          "execution_count": 25,
          "metadata": {},
          "output_type": "execute_result"
        }
      ],
      "source": [
        "dt = DecisionTreeClassifier(criterion='gini', \n",
        "                                       max_depth=27, \n",
        "                                       min_samples_leaf=1, \n",
        "                                       random_state=64)\n",
        "\n",
        "dt.fit(X_train, y_train)\n",
        "round(dt.score(X_train, y_train), 2)"
      ]
    },
    {
      "cell_type": "code",
      "execution_count": 26,
      "metadata": {
        "colab": {
          "base_uri": "https://localhost:8080/"
        },
        "id": "XvMSD3WF7Nzt",
        "outputId": "e9f77d6c-2b20-43ab-8b67-5cf7fa77fb86"
      },
      "outputs": [
        {
          "data": {
            "text/plain": [
              "0.82"
            ]
          },
          "execution_count": 26,
          "metadata": {},
          "output_type": "execute_result"
        }
      ],
      "source": [
        "# Predict Decision Tree\n",
        "decision_tree_pred = dt.predict(X_test)\n",
        "dt_acc = round(accuracy_score(y_test, decision_tree_pred), 2)\n",
        "dt_acc"
      ]
    },
    {
      "cell_type": "markdown",
      "metadata": {
        "id": "061YG9d6_5fP"
      },
      "source": [
        "### Bagging\n"
      ]
    },
    {
      "cell_type": "code",
      "execution_count": 27,
      "metadata": {
        "colab": {
          "base_uri": "https://localhost:8080/"
        },
        "id": "NSnuuJxn-7YG",
        "outputId": "53401480-1b8a-4494-b59f-8c444a00f530"
      },
      "outputs": [
        {
          "data": {
            "text/plain": [
              "1.0"
            ]
          },
          "execution_count": 27,
          "metadata": {},
          "output_type": "execute_result"
        }
      ],
      "source": [
        "bagging = BaggingClassifier(DecisionTreeClassifier(criterion='gini',\n",
        "                                                   max_depth=27,\n",
        "                                                   min_samples_leaf=1,\n",
        "                                                   random_state=64),\n",
        "                            n_estimators = 100,\n",
        "                            random_state = 13)\n",
        "bagging.fit(X_train, y_train)\n",
        "round(bagging.score(X_train, y_train), 2)"
      ]
    },
    {
      "cell_type": "code",
      "execution_count": 28,
      "metadata": {
        "colab": {
          "base_uri": "https://localhost:8080/"
        },
        "id": "0S_8G2MQ_jyO",
        "outputId": "4c3bf9fc-0fee-4e1d-88f7-2df4b3564ee5"
      },
      "outputs": [
        {
          "data": {
            "text/plain": [
              "0.85"
            ]
          },
          "execution_count": 28,
          "metadata": {},
          "output_type": "execute_result"
        }
      ],
      "source": [
        "bagging_pred = bagging.predict(X_test)\n",
        "bagging_acc = round(accuracy_score(y_test, bagging_pred), 2)\n",
        "bagging_acc"
      ]
    },
    {
      "cell_type": "markdown",
      "metadata": {
        "id": "b_HZ01Hg9asH"
      },
      "source": [
        "## Random Forest"
      ]
    },
    {
      "cell_type": "code",
      "execution_count": 29,
      "metadata": {
        "colab": {
          "base_uri": "https://localhost:8080/"
        },
        "id": "j_zSlfDx81IV",
        "outputId": "214e3d84-663d-4d9d-f059-56aca27540f9"
      },
      "outputs": [
        {
          "name": "stdout",
          "output_type": "stream",
          "text": [
            "Best parameters for Random Forest: {'min_samples_leaf': 2, 'n_estimators': 350}\n"
          ]
        }
      ],
      "source": [
        "rf = RandomForestClassifier()\n",
        "\n",
        "params_rf = {'n_estimators':[100,200, 350, 500], 'min_samples_leaf':[2, 10, 30]}\n",
        "grid_rf = GridSearchCV(rf, param_grid=params_rf, cv=5)\n",
        "\n",
        "grid_rf.fit(X_train, y_train)\n",
        "print(\"Best parameters for Random Forest:\", grid_rf.best_params_)"
      ]
    },
    {
      "cell_type": "code",
      "execution_count": 30,
      "metadata": {
        "colab": {
          "base_uri": "https://localhost:8080/"
        },
        "id": "46o6eETV9pW1",
        "outputId": "d96932b2-a411-432b-c8ff-801b329ca2a5"
      },
      "outputs": [
        {
          "data": {
            "text/plain": [
              "1.0"
            ]
          },
          "execution_count": 30,
          "metadata": {},
          "output_type": "execute_result"
        }
      ],
      "source": [
        "rf = RandomForestClassifier(n_estimators=200, min_samples_leaf=2, random_state=127)\n",
        "\n",
        "rf.fit(X_train, y_train)\n",
        "round(rf.score(X_train, y_train), 2)"
      ]
    },
    {
      "cell_type": "code",
      "execution_count": 31,
      "metadata": {
        "colab": {
          "base_uri": "https://localhost:8080/"
        },
        "id": "nxjhUy7I-HTt",
        "outputId": "2191d018-0834-438c-e2d7-6172afb8d2e0"
      },
      "outputs": [
        {
          "data": {
            "text/plain": [
              "0.88"
            ]
          },
          "execution_count": 31,
          "metadata": {},
          "output_type": "execute_result"
        }
      ],
      "source": [
        "rf_pred = rf.predict(X_test)\n",
        "rf_acc = round(accuracy_score(y_test, rf_pred), 2)\n",
        "rf_acc"
      ]
    },
    {
      "cell_type": "markdown",
      "metadata": {
        "id": "HwXb8wqIZvsx"
      },
      "source": [
        "## XGBOOST"
      ]
    },
    {
      "cell_type": "code",
      "execution_count": 32,
      "metadata": {
        "colab": {
          "base_uri": "https://localhost:8080/"
        },
        "id": "irMGrvQPBY5d",
        "outputId": "fee20cc8-a465-4814-b1d6-70d7889be884"
      },
      "outputs": [
        {
          "name": "stdout",
          "output_type": "stream",
          "text": [
            "Best parameters for XGBoost: {'n_estimators': 800, 'learning_rate': 0.2}\n"
          ]
        }
      ],
      "source": [
        "xgb = XGBClassifier(eval_metric = 'logloss', use_label_encoder=False)\n",
        "\n",
        "# xgboost tuning\n",
        "params_xgb = {'n_estimators': [50,100,250,400,600,800,1000], 'learning_rate': [0.2,0.5,0.8,1]}\n",
        "rs_xgb =  RandomizedSearchCV(xgb, param_distributions=params_xgb, cv=5)\n",
        "\n",
        "rs_xgb.fit(X_train, y_train)\n",
        "print(\"Best parameters for XGBoost:\", rs_xgb.best_params_)"
      ]
    },
    {
      "cell_type": "code",
      "execution_count": 33,
      "metadata": {
        "colab": {
          "base_uri": "https://localhost:8080/"
        },
        "id": "NODFAPwqXVVl",
        "outputId": "2bafc0bb-afcc-49e0-ee4d-4433a47414cd"
      },
      "outputs": [
        {
          "data": {
            "text/plain": [
              "1.0"
            ]
          },
          "execution_count": 33,
          "metadata": {},
          "output_type": "execute_result"
        }
      ],
      "source": [
        "xgb = XGBClassifier(n_estimators=600, learning_rate=0.8)\n",
        "xgb.fit(X_train, y_train)\n",
        "round(xgb.score(X_train, y_train), 2)"
      ]
    },
    {
      "cell_type": "code",
      "execution_count": 34,
      "metadata": {
        "colab": {
          "base_uri": "https://localhost:8080/"
        },
        "id": "6uizINHNZV_E",
        "outputId": "30460f63-69a2-40a6-a54a-a0f09889eb5a"
      },
      "outputs": [
        {
          "data": {
            "text/plain": [
              "0.82"
            ]
          },
          "execution_count": 34,
          "metadata": {},
          "output_type": "execute_result"
        }
      ],
      "source": [
        "xgb_pred = xgb.predict(X_test)\n",
        "xgb_acc = round(accuracy_score(y_test, xgb_pred), 2)\n",
        "xgb_acc"
      ]
    },
    {
      "cell_type": "code",
      "execution_count": 35,
      "metadata": {
        "colab": {
          "base_uri": "https://localhost:8080/",
          "height": 235
        },
        "id": "LSBEAh_zbQs0",
        "outputId": "8a6ca734-5660-4678-9b5b-3caf76a37326"
      },
      "outputs": [
        {
          "data": {
            "text/html": [
              "<div>\n",
              "<style scoped>\n",
              "    .dataframe tbody tr th:only-of-type {\n",
              "        vertical-align: middle;\n",
              "    }\n",
              "\n",
              "    .dataframe tbody tr th {\n",
              "        vertical-align: top;\n",
              "    }\n",
              "\n",
              "    .dataframe thead th {\n",
              "        text-align: right;\n",
              "    }\n",
              "</style>\n",
              "<table border=\"1\" class=\"dataframe\">\n",
              "  <thead>\n",
              "    <tr style=\"text-align: right;\">\n",
              "      <th></th>\n",
              "      <th>Model</th>\n",
              "      <th>Score</th>\n",
              "    </tr>\n",
              "  </thead>\n",
              "  <tbody>\n",
              "    <tr>\n",
              "      <th>4</th>\n",
              "      <td>Random Forest</td>\n",
              "      <td>0.880000</td>\n",
              "    </tr>\n",
              "    <tr>\n",
              "      <th>3</th>\n",
              "      <td>bagging</td>\n",
              "      <td>0.850000</td>\n",
              "    </tr>\n",
              "    <tr>\n",
              "      <th>1</th>\n",
              "      <td>KNN</td>\n",
              "      <td>0.820000</td>\n",
              "    </tr>\n",
              "    <tr>\n",
              "      <th>2</th>\n",
              "      <td>Decision Tree</td>\n",
              "      <td>0.820000</td>\n",
              "    </tr>\n",
              "    <tr>\n",
              "      <th>5</th>\n",
              "      <td>XGBOOST</td>\n",
              "      <td>0.820000</td>\n",
              "    </tr>\n",
              "    <tr>\n",
              "      <th>0</th>\n",
              "      <td>Logistic Regression</td>\n",
              "      <td>0.529167</td>\n",
              "    </tr>\n",
              "  </tbody>\n",
              "</table>\n",
              "</div>"
            ],
            "text/plain": [
              "                  Model     Score\n",
              "4         Random Forest  0.880000\n",
              "3               bagging  0.850000\n",
              "1                   KNN  0.820000\n",
              "2         Decision Tree  0.820000\n",
              "5               XGBOOST  0.820000\n",
              "0   Logistic Regression  0.529167"
            ]
          },
          "execution_count": 35,
          "metadata": {},
          "output_type": "execute_result"
        }
      ],
      "source": [
        "models = pd.DataFrame({\n",
        "    'Model': [' Logistic Regression', 'KNN',\n",
        "              'Decision Tree', 'bagging',\n",
        "              'Random Forest', 'XGBOOST'],\n",
        "    'Score': [logreg_acc, knn_acc, dt_acc, \n",
        "              bagging_acc, rf_acc, xgb_acc]})\n",
        "\n",
        "models.sort_values(by='Score', ascending=False)"
      ]
    },
    {
      "attachments": {},
      "cell_type": "markdown",
      "metadata": {
        "id": "jAb0B7abbEhP"
      },
      "source": [
        "Random forest memiliki akurasi yang paling baik maka akan dipilih sebagai model utama"
      ]
    },
    {
      "attachments": {},
      "cell_type": "markdown",
      "metadata": {
        "id": "ldVOTok9qHDl"
      },
      "source": [
        "# Evaluasi\n",
        "Evalusi model yang digunakan adalah matriks precision\n",
        "\n",
        "Matriks precision adalah matriks evaluasi klasifikasi yang digunakan untuk mengukur seberapa akurat suatu model dalam memprediksi suatu kelas tertentu. Matriks ini terdiri dari empat sel yaitu true positive, false positive, true negative, dan false negative. Precision dihitung dengan membagi true positive dengan jumlah prediksi positif. Semakin tinggi precision, semakin sedikit kesalahan prediksi positif yang dilakukan oleh model, yang berarti semakin akurat model dalam memprediksi kelas target. Adapun formula precision sebagai berikut\n",
        "\n",
        "**Formula Precision**\\\n",
        "TP – True Positives\\\n",
        "FP – False Positives\\\n",
        "Precision – Accuracy of positive predictions.\\\n",
        "Precision = TP/(TP + FP)"
      ]
    },
    {
      "cell_type": "code",
      "execution_count": 36,
      "metadata": {
        "colab": {
          "base_uri": "https://localhost:8080/"
        },
        "id": "GW1vuhDuZ62c",
        "outputId": "49107146-b7f5-42b2-d2f9-2be06cfdf3c5"
      },
      "outputs": [
        {
          "name": "stdout",
          "output_type": "stream",
          "text": [
            "              precision    recall  f1-score   support\n",
            "\n",
            "           0       0.86      0.91      0.89       128\n",
            "           1       0.89      0.83      0.86       112\n",
            "\n",
            "    accuracy                           0.88       240\n",
            "   macro avg       0.88      0.87      0.87       240\n",
            "weighted avg       0.88      0.88      0.87       240\n",
            "\n"
          ]
        }
      ],
      "source": [
        "from sklearn.metrics import classification_report\n",
        "\n",
        "y_pred_rf = rf.predict(X_test)\n",
        "print(classification_report(y_test, y_pred_rf))"
      ]
    },
    {
      "cell_type": "markdown",
      "metadata": {
        "id": "efIkU0It9YHN"
      },
      "source": [
        "precision terhadap label 0 adalah 86% dan label 1 adalah 89%.\n",
        "dengan pengertian bahwa model dapat memprediksi dengan benar terhadap label 0 sebanyak 86% dan terhadap label 1 sebanyak 89%."
      ]
    },
    {
      "cell_type": "markdown",
      "metadata": {
        "id": "tERbT1yw9qWA"
      },
      "source": [
        "Mencoba melakukan prediksi terhadap data X_test"
      ]
    },
    {
      "cell_type": "code",
      "execution_count": 38,
      "metadata": {
        "colab": {
          "base_uri": "https://localhost:8080/",
          "height": 80
        },
        "id": "c12K7wGrdEft",
        "outputId": "837a06c5-ffce-4199-818a-65ef4a324d96"
      },
      "outputs": [
        {
          "data": {
            "text/html": [
              "<div>\n",
              "<style scoped>\n",
              "    .dataframe tbody tr th:only-of-type {\n",
              "        vertical-align: middle;\n",
              "    }\n",
              "\n",
              "    .dataframe tbody tr th {\n",
              "        vertical-align: top;\n",
              "    }\n",
              "\n",
              "    .dataframe thead th {\n",
              "        text-align: right;\n",
              "    }\n",
              "</style>\n",
              "<table border=\"1\" class=\"dataframe\">\n",
              "  <thead>\n",
              "    <tr style=\"text-align: right;\">\n",
              "      <th></th>\n",
              "      <th>ph</th>\n",
              "      <th>Hardness</th>\n",
              "      <th>Solids</th>\n",
              "      <th>Chloramines</th>\n",
              "      <th>Sulfate</th>\n",
              "      <th>Conductivity</th>\n",
              "      <th>Organic_carbon</th>\n",
              "      <th>Trihalomethanes</th>\n",
              "      <th>Turbidity</th>\n",
              "    </tr>\n",
              "  </thead>\n",
              "  <tbody>\n",
              "    <tr>\n",
              "      <th>238</th>\n",
              "      <td>0.281366</td>\n",
              "      <td>0.3153</td>\n",
              "      <td>0.826658</td>\n",
              "      <td>-0.410874</td>\n",
              "      <td>0.194487</td>\n",
              "      <td>1.247262</td>\n",
              "      <td>0.872646</td>\n",
              "      <td>-0.071201</td>\n",
              "      <td>-0.315797</td>\n",
              "    </tr>\n",
              "  </tbody>\n",
              "</table>\n",
              "</div>"
            ],
            "text/plain": [
              "           ph  Hardness    Solids  Chloramines   Sulfate  Conductivity  \\\n",
              "238  0.281366    0.3153  0.826658    -0.410874  0.194487      1.247262   \n",
              "\n",
              "     Organic_carbon  Trihalomethanes  Turbidity  \n",
              "238        0.872646        -0.071201  -0.315797  "
            ]
          },
          "execution_count": 38,
          "metadata": {},
          "output_type": "execute_result"
        }
      ],
      "source": [
        "prediksi = X_test.iloc[:1].copy()\n",
        "prediksi"
      ]
    },
    {
      "cell_type": "code",
      "execution_count": 39,
      "metadata": {
        "colab": {
          "base_uri": "https://localhost:8080/"
        },
        "id": "clmAjBNSd969",
        "outputId": "b33e8885-5871-433a-8396-2dfc6f8c24fa"
      },
      "outputs": [
        {
          "data": {
            "text/plain": [
              "{'y_true': 238    0\n",
              " Name: Potability, dtype: int64}"
            ]
          },
          "execution_count": 39,
          "metadata": {},
          "output_type": "execute_result"
        }
      ],
      "source": [
        "pred_dict = {'y_true':y_test[:1]}\n",
        "pred_dict"
      ]
    },
    {
      "cell_type": "code",
      "execution_count": 40,
      "metadata": {
        "id": "boU4i166eA3t"
      },
      "outputs": [],
      "source": [
        "pred_dict['prediksi_rf'] = rf.predict(prediksi).round(1)"
      ]
    },
    {
      "cell_type": "code",
      "execution_count": 41,
      "metadata": {
        "colab": {
          "base_uri": "https://localhost:8080/",
          "height": 80
        },
        "id": "JPL_5UXceYBV",
        "outputId": "580c5b1f-227f-40b5-c935-6003d270b36b"
      },
      "outputs": [
        {
          "data": {
            "text/html": [
              "<div>\n",
              "<style scoped>\n",
              "    .dataframe tbody tr th:only-of-type {\n",
              "        vertical-align: middle;\n",
              "    }\n",
              "\n",
              "    .dataframe tbody tr th {\n",
              "        vertical-align: top;\n",
              "    }\n",
              "\n",
              "    .dataframe thead th {\n",
              "        text-align: right;\n",
              "    }\n",
              "</style>\n",
              "<table border=\"1\" class=\"dataframe\">\n",
              "  <thead>\n",
              "    <tr style=\"text-align: right;\">\n",
              "      <th></th>\n",
              "      <th>y_true</th>\n",
              "      <th>prediksi_rf</th>\n",
              "    </tr>\n",
              "  </thead>\n",
              "  <tbody>\n",
              "    <tr>\n",
              "      <th>238</th>\n",
              "      <td>0</td>\n",
              "      <td>0</td>\n",
              "    </tr>\n",
              "  </tbody>\n",
              "</table>\n",
              "</div>"
            ],
            "text/plain": [
              "     y_true  prediksi_rf\n",
              "238       0            0"
            ]
          },
          "execution_count": 41,
          "metadata": {},
          "output_type": "execute_result"
        }
      ],
      "source": [
        "pd.DataFrame(pred_dict)"
      ]
    },
    {
      "cell_type": "code",
      "execution_count": 42,
      "metadata": {},
      "outputs": [],
      "source": [
        "import pickle\n",
        "\n",
        "filename = 'random_forest_model.pkl'\n",
        "pickle.dump(rf, open(filename, 'wb'))"
      ]
    }
  ],
  "metadata": {
    "accelerator": "GPU",
    "colab": {
      "collapsed_sections": [
        "RazlCX2D3snI",
        "lJUih9hS4EsA",
        "NIK3uZGDGFtF",
        "3wxBTgUsGSR-",
        "MmfyzHXQ4wdD",
        "CfeGl5r65d14",
        "Dtv2n84MXKC5",
        "PnRtTZcDXyIj",
        "VExxNg1VZr-U",
        "0sXXzLMNqDsd",
        "Jo276M2P8c4K",
        "_0buJwHNzB3o",
        "i-AnOLZHzYVv",
        "2Ge-Rq7L1v1y",
        "220gRevrIHFR",
        "061YG9d6_5fP",
        "b_HZ01Hg9asH",
        "ldVOTok9qHDl"
      ],
      "name": "predict_potability.ipynb",
      "provenance": []
    },
    "kernelspec": {
      "display_name": "base",
      "language": "python",
      "name": "python3"
    },
    "language_info": {
      "codemirror_mode": {
        "name": "ipython",
        "version": 3
      },
      "file_extension": ".py",
      "mimetype": "text/x-python",
      "name": "python",
      "nbconvert_exporter": "python",
      "pygments_lexer": "ipython3",
      "version": "3.9.13"
    },
    "vscode": {
      "interpreter": {
        "hash": "4418d746375743e79880926fa320288f50d0741edf4b6ba1c475048e634b3533"
      }
    }
  },
  "nbformat": 4,
  "nbformat_minor": 0
}
